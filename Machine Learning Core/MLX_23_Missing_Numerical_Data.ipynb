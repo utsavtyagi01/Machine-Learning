{
 "cells": [
  {
   "cell_type": "code",
   "execution_count": 1,
   "metadata": {},
   "outputs": [],
   "source": [
    "import pandas as pd\n",
    "import numpy as np\n",
    "import matplotlib.pyplot as plt\n",
    "from sklearn.model_selection import train_test_split\n",
    "from sklearn.impute import SimpleImputer\n",
    "from sklearn.compose import ColumnTransformer"
   ]
  },
  {
   "cell_type": "code",
   "execution_count": 2,
   "metadata": {},
   "outputs": [],
   "source": [
    "df=pd.read_csv('titanic_toy.csv')"
   ]
  },
  {
   "cell_type": "code",
   "execution_count": 3,
   "metadata": {},
   "outputs": [
    {
     "data": {
      "text/html": [
       "<div>\n",
       "<style scoped>\n",
       "    .dataframe tbody tr th:only-of-type {\n",
       "        vertical-align: middle;\n",
       "    }\n",
       "\n",
       "    .dataframe tbody tr th {\n",
       "        vertical-align: top;\n",
       "    }\n",
       "\n",
       "    .dataframe thead th {\n",
       "        text-align: right;\n",
       "    }\n",
       "</style>\n",
       "<table border=\"1\" class=\"dataframe\">\n",
       "  <thead>\n",
       "    <tr style=\"text-align: right;\">\n",
       "      <th></th>\n",
       "      <th>Age</th>\n",
       "      <th>Fare</th>\n",
       "      <th>Family</th>\n",
       "      <th>Survived</th>\n",
       "    </tr>\n",
       "  </thead>\n",
       "  <tbody>\n",
       "    <tr>\n",
       "      <th>0</th>\n",
       "      <td>22.0</td>\n",
       "      <td>7.2500</td>\n",
       "      <td>1</td>\n",
       "      <td>0</td>\n",
       "    </tr>\n",
       "    <tr>\n",
       "      <th>1</th>\n",
       "      <td>38.0</td>\n",
       "      <td>71.2833</td>\n",
       "      <td>1</td>\n",
       "      <td>1</td>\n",
       "    </tr>\n",
       "    <tr>\n",
       "      <th>2</th>\n",
       "      <td>26.0</td>\n",
       "      <td>7.9250</td>\n",
       "      <td>0</td>\n",
       "      <td>1</td>\n",
       "    </tr>\n",
       "    <tr>\n",
       "      <th>3</th>\n",
       "      <td>35.0</td>\n",
       "      <td>53.1000</td>\n",
       "      <td>1</td>\n",
       "      <td>1</td>\n",
       "    </tr>\n",
       "    <tr>\n",
       "      <th>4</th>\n",
       "      <td>35.0</td>\n",
       "      <td>8.0500</td>\n",
       "      <td>0</td>\n",
       "      <td>0</td>\n",
       "    </tr>\n",
       "  </tbody>\n",
       "</table>\n",
       "</div>"
      ],
      "text/plain": [
       "    Age     Fare  Family  Survived\n",
       "0  22.0   7.2500       1         0\n",
       "1  38.0  71.2833       1         1\n",
       "2  26.0   7.9250       0         1\n",
       "3  35.0  53.1000       1         1\n",
       "4  35.0   8.0500       0         0"
      ]
     },
     "execution_count": 3,
     "metadata": {},
     "output_type": "execute_result"
    }
   ],
   "source": [
    "df.head()"
   ]
  },
  {
   "cell_type": "code",
   "execution_count": 4,
   "metadata": {},
   "outputs": [
    {
     "name": "stdout",
     "output_type": "stream",
     "text": [
      "<class 'pandas.core.frame.DataFrame'>\n",
      "RangeIndex: 891 entries, 0 to 890\n",
      "Data columns (total 4 columns):\n",
      " #   Column    Non-Null Count  Dtype  \n",
      "---  ------    --------------  -----  \n",
      " 0   Age       714 non-null    float64\n",
      " 1   Fare      846 non-null    float64\n",
      " 2   Family    891 non-null    int64  \n",
      " 3   Survived  891 non-null    int64  \n",
      "dtypes: float64(2), int64(2)\n",
      "memory usage: 28.0 KB\n"
     ]
    }
   ],
   "source": [
    "df.info()"
   ]
  },
  {
   "cell_type": "code",
   "execution_count": 5,
   "metadata": {},
   "outputs": [
    {
     "data": {
      "text/plain": [
       "Age         0.198653\n",
       "Fare        0.050505\n",
       "Family      0.000000\n",
       "Survived    0.000000\n",
       "dtype: float64"
      ]
     },
     "execution_count": 5,
     "metadata": {},
     "output_type": "execute_result"
    }
   ],
   "source": [
    "df.isnull().mean()"
   ]
  },
  {
   "cell_type": "code",
   "execution_count": 6,
   "metadata": {},
   "outputs": [],
   "source": [
    "x_train,x_test,y_train,y_test=train_test_split(df.drop('Survived',axis=1),df.Survived)"
   ]
  },
  {
   "cell_type": "code",
   "execution_count": 8,
   "metadata": {},
   "outputs": [
    {
     "data": {
      "text/plain": [
       "Age       0.199102\n",
       "Fare      0.049401\n",
       "Family    0.000000\n",
       "dtype: float64"
      ]
     },
     "execution_count": 8,
     "metadata": {},
     "output_type": "execute_result"
    }
   ],
   "source": [
    "x_train.isnull().mean()"
   ]
  },
  {
   "cell_type": "code",
   "execution_count": 9,
   "metadata": {},
   "outputs": [],
   "source": [
    "i1=SimpleImputer(strategy='median')\n",
    "i2=SimpleImputer(strategy='mean')"
   ]
  },
  {
   "cell_type": "code",
   "execution_count": 10,
   "metadata": {},
   "outputs": [],
   "source": [
    "trf=ColumnTransformer(transformers=[\n",
    "    ('one',i1,['Age']),\n",
    "    ('two',i2,['Fare'])\n",
    "],remainder='passthrough')"
   ]
  },
  {
   "cell_type": "code",
   "execution_count": 11,
   "metadata": {},
   "outputs": [
    {
     "data": {
      "text/html": [
       "<style>#sk-container-id-1 {color: black;}#sk-container-id-1 pre{padding: 0;}#sk-container-id-1 div.sk-toggleable {background-color: white;}#sk-container-id-1 label.sk-toggleable__label {cursor: pointer;display: block;width: 100%;margin-bottom: 0;padding: 0.3em;box-sizing: border-box;text-align: center;}#sk-container-id-1 label.sk-toggleable__label-arrow:before {content: \"▸\";float: left;margin-right: 0.25em;color: #696969;}#sk-container-id-1 label.sk-toggleable__label-arrow:hover:before {color: black;}#sk-container-id-1 div.sk-estimator:hover label.sk-toggleable__label-arrow:before {color: black;}#sk-container-id-1 div.sk-toggleable__content {max-height: 0;max-width: 0;overflow: hidden;text-align: left;background-color: #f0f8ff;}#sk-container-id-1 div.sk-toggleable__content pre {margin: 0.2em;color: black;border-radius: 0.25em;background-color: #f0f8ff;}#sk-container-id-1 input.sk-toggleable__control:checked~div.sk-toggleable__content {max-height: 200px;max-width: 100%;overflow: auto;}#sk-container-id-1 input.sk-toggleable__control:checked~label.sk-toggleable__label-arrow:before {content: \"▾\";}#sk-container-id-1 div.sk-estimator input.sk-toggleable__control:checked~label.sk-toggleable__label {background-color: #d4ebff;}#sk-container-id-1 div.sk-label input.sk-toggleable__control:checked~label.sk-toggleable__label {background-color: #d4ebff;}#sk-container-id-1 input.sk-hidden--visually {border: 0;clip: rect(1px 1px 1px 1px);clip: rect(1px, 1px, 1px, 1px);height: 1px;margin: -1px;overflow: hidden;padding: 0;position: absolute;width: 1px;}#sk-container-id-1 div.sk-estimator {font-family: monospace;background-color: #f0f8ff;border: 1px dotted black;border-radius: 0.25em;box-sizing: border-box;margin-bottom: 0.5em;}#sk-container-id-1 div.sk-estimator:hover {background-color: #d4ebff;}#sk-container-id-1 div.sk-parallel-item::after {content: \"\";width: 100%;border-bottom: 1px solid gray;flex-grow: 1;}#sk-container-id-1 div.sk-label:hover label.sk-toggleable__label {background-color: #d4ebff;}#sk-container-id-1 div.sk-serial::before {content: \"\";position: absolute;border-left: 1px solid gray;box-sizing: border-box;top: 0;bottom: 0;left: 50%;z-index: 0;}#sk-container-id-1 div.sk-serial {display: flex;flex-direction: column;align-items: center;background-color: white;padding-right: 0.2em;padding-left: 0.2em;position: relative;}#sk-container-id-1 div.sk-item {position: relative;z-index: 1;}#sk-container-id-1 div.sk-parallel {display: flex;align-items: stretch;justify-content: center;background-color: white;position: relative;}#sk-container-id-1 div.sk-item::before, #sk-container-id-1 div.sk-parallel-item::before {content: \"\";position: absolute;border-left: 1px solid gray;box-sizing: border-box;top: 0;bottom: 0;left: 50%;z-index: -1;}#sk-container-id-1 div.sk-parallel-item {display: flex;flex-direction: column;z-index: 1;position: relative;background-color: white;}#sk-container-id-1 div.sk-parallel-item:first-child::after {align-self: flex-end;width: 50%;}#sk-container-id-1 div.sk-parallel-item:last-child::after {align-self: flex-start;width: 50%;}#sk-container-id-1 div.sk-parallel-item:only-child::after {width: 0;}#sk-container-id-1 div.sk-dashed-wrapped {border: 1px dashed gray;margin: 0 0.4em 0.5em 0.4em;box-sizing: border-box;padding-bottom: 0.4em;background-color: white;}#sk-container-id-1 div.sk-label label {font-family: monospace;font-weight: bold;display: inline-block;line-height: 1.2em;}#sk-container-id-1 div.sk-label-container {text-align: center;}#sk-container-id-1 div.sk-container {/* jupyter's `normalize.less` sets `[hidden] { display: none; }` but bootstrap.min.css set `[hidden] { display: none !important; }` so we also need the `!important` here to be able to override the default hidden behavior on the sphinx rendered scikit-learn.org. See: https://github.com/scikit-learn/scikit-learn/issues/21755 */display: inline-block !important;position: relative;}#sk-container-id-1 div.sk-text-repr-fallback {display: none;}</style><div id=\"sk-container-id-1\" class=\"sk-top-container\"><div class=\"sk-text-repr-fallback\"><pre>ColumnTransformer(remainder=&#x27;passthrough&#x27;,\n",
       "                  transformers=[(&#x27;one&#x27;, SimpleImputer(strategy=&#x27;median&#x27;),\n",
       "                                 [&#x27;Age&#x27;]),\n",
       "                                (&#x27;two&#x27;, SimpleImputer(), [&#x27;Fare&#x27;])])</pre><b>In a Jupyter environment, please rerun this cell to show the HTML representation or trust the notebook. <br />On GitHub, the HTML representation is unable to render, please try loading this page with nbviewer.org.</b></div><div class=\"sk-container\" hidden><div class=\"sk-item sk-dashed-wrapped\"><div class=\"sk-label-container\"><div class=\"sk-label sk-toggleable\"><input class=\"sk-toggleable__control sk-hidden--visually\" id=\"sk-estimator-id-1\" type=\"checkbox\" ><label for=\"sk-estimator-id-1\" class=\"sk-toggleable__label sk-toggleable__label-arrow\">ColumnTransformer</label><div class=\"sk-toggleable__content\"><pre>ColumnTransformer(remainder=&#x27;passthrough&#x27;,\n",
       "                  transformers=[(&#x27;one&#x27;, SimpleImputer(strategy=&#x27;median&#x27;),\n",
       "                                 [&#x27;Age&#x27;]),\n",
       "                                (&#x27;two&#x27;, SimpleImputer(), [&#x27;Fare&#x27;])])</pre></div></div></div><div class=\"sk-parallel\"><div class=\"sk-parallel-item\"><div class=\"sk-item\"><div class=\"sk-label-container\"><div class=\"sk-label sk-toggleable\"><input class=\"sk-toggleable__control sk-hidden--visually\" id=\"sk-estimator-id-2\" type=\"checkbox\" ><label for=\"sk-estimator-id-2\" class=\"sk-toggleable__label sk-toggleable__label-arrow\">one</label><div class=\"sk-toggleable__content\"><pre>[&#x27;Age&#x27;]</pre></div></div></div><div class=\"sk-serial\"><div class=\"sk-item\"><div class=\"sk-estimator sk-toggleable\"><input class=\"sk-toggleable__control sk-hidden--visually\" id=\"sk-estimator-id-3\" type=\"checkbox\" ><label for=\"sk-estimator-id-3\" class=\"sk-toggleable__label sk-toggleable__label-arrow\">SimpleImputer</label><div class=\"sk-toggleable__content\"><pre>SimpleImputer(strategy=&#x27;median&#x27;)</pre></div></div></div></div></div></div><div class=\"sk-parallel-item\"><div class=\"sk-item\"><div class=\"sk-label-container\"><div class=\"sk-label sk-toggleable\"><input class=\"sk-toggleable__control sk-hidden--visually\" id=\"sk-estimator-id-4\" type=\"checkbox\" ><label for=\"sk-estimator-id-4\" class=\"sk-toggleable__label sk-toggleable__label-arrow\">two</label><div class=\"sk-toggleable__content\"><pre>[&#x27;Fare&#x27;]</pre></div></div></div><div class=\"sk-serial\"><div class=\"sk-item\"><div class=\"sk-estimator sk-toggleable\"><input class=\"sk-toggleable__control sk-hidden--visually\" id=\"sk-estimator-id-5\" type=\"checkbox\" ><label for=\"sk-estimator-id-5\" class=\"sk-toggleable__label sk-toggleable__label-arrow\">SimpleImputer</label><div class=\"sk-toggleable__content\"><pre>SimpleImputer()</pre></div></div></div></div></div></div><div class=\"sk-parallel-item\"><div class=\"sk-item\"><div class=\"sk-label-container\"><div class=\"sk-label sk-toggleable\"><input class=\"sk-toggleable__control sk-hidden--visually\" id=\"sk-estimator-id-6\" type=\"checkbox\" ><label for=\"sk-estimator-id-6\" class=\"sk-toggleable__label sk-toggleable__label-arrow\">remainder</label><div class=\"sk-toggleable__content\"><pre>[&#x27;Family&#x27;]</pre></div></div></div><div class=\"sk-serial\"><div class=\"sk-item\"><div class=\"sk-estimator sk-toggleable\"><input class=\"sk-toggleable__control sk-hidden--visually\" id=\"sk-estimator-id-7\" type=\"checkbox\" ><label for=\"sk-estimator-id-7\" class=\"sk-toggleable__label sk-toggleable__label-arrow\">passthrough</label><div class=\"sk-toggleable__content\"><pre>passthrough</pre></div></div></div></div></div></div></div></div></div></div>"
      ],
      "text/plain": [
       "ColumnTransformer(remainder='passthrough',\n",
       "                  transformers=[('one', SimpleImputer(strategy='median'),\n",
       "                                 ['Age']),\n",
       "                                ('two', SimpleImputer(), ['Fare'])])"
      ]
     },
     "execution_count": 11,
     "metadata": {},
     "output_type": "execute_result"
    }
   ],
   "source": [
    "trf.fit(x_train)"
   ]
  },
  {
   "cell_type": "code",
   "execution_count": 13,
   "metadata": {},
   "outputs": [
    {
     "data": {
      "text/plain": [
       "array([28.])"
      ]
     },
     "execution_count": 13,
     "metadata": {},
     "output_type": "execute_result"
    }
   ],
   "source": [
    "trf.named_transformers_['one'].statistics_"
   ]
  },
  {
   "cell_type": "code",
   "execution_count": 14,
   "metadata": {},
   "outputs": [
    {
     "data": {
      "text/plain": [
       "array([30.67122661])"
      ]
     },
     "execution_count": 14,
     "metadata": {},
     "output_type": "execute_result"
    }
   ],
   "source": [
    "trf.named_transformers_['two'].statistics_"
   ]
  },
  {
   "cell_type": "code",
   "execution_count": 15,
   "metadata": {},
   "outputs": [
    {
     "data": {
      "text/plain": [
       "array([[ 28.    ,  12.35  ,   0.    ],\n",
       "       [ 39.    ,  13.    ,   0.    ],\n",
       "       [ 18.    ,  18.    ,   2.    ],\n",
       "       ...,\n",
       "       [ 35.    , 512.3292,   0.    ],\n",
       "       [ 41.    ,  39.6875,   5.    ],\n",
       "       [ 28.    ,   7.7958,   0.    ]])"
      ]
     },
     "execution_count": 15,
     "metadata": {},
     "output_type": "execute_result"
    }
   ],
   "source": [
    "trf.fit_transform(x_train)"
   ]
  },
  {
   "cell_type": "code",
   "execution_count": 17,
   "metadata": {},
   "outputs": [
    {
     "data": {
      "text/plain": [
       "array([[ 29.        ,  37.11891611,   4.        ],\n",
       "       [ 39.        ,  55.9       ,   1.        ],\n",
       "       [ 44.        ,  90.        ,   2.        ],\n",
       "       [ 58.        ,  29.7       ,   0.        ],\n",
       "       [ 30.        ,  27.75      ,   0.        ],\n",
       "       [ 54.        ,  14.        ,   0.        ],\n",
       "       [ 29.        ,   7.55      ,   0.        ],\n",
       "       [ 29.        ,   7.25      ,   0.        ],\n",
       "       [ 17.        , 108.9       ,   1.        ],\n",
       "       [ 29.        ,  22.3583    ,   2.        ],\n",
       "       [ 29.        , 146.5208    ,   1.        ],\n",
       "       [  2.        ,  39.6875    ,   5.        ],\n",
       "       [ 25.        ,  55.4417    ,   1.        ],\n",
       "       [  1.        ,  39.6875    ,   5.        ],\n",
       "       [ 24.        ,   7.05      ,   0.        ],\n",
       "       [  6.        ,  33.        ,   1.        ],\n",
       "       [ 36.        ,  10.5       ,   0.        ],\n",
       "       [ 29.        ,   6.95      ,   0.        ],\n",
       "       [ 48.        ,  76.7292    ,   1.        ],\n",
       "       [ 47.        ,  14.5       ,   1.        ],\n",
       "       [ 17.        ,  12.        ,   0.        ],\n",
       "       [  9.        ,  15.2458    ,   2.        ],\n",
       "       [ 50.        ,  28.7125    ,   0.        ],\n",
       "       [ 35.        , 135.6333    ,   0.        ],\n",
       "       [ 29.        ,   7.2292    ,   0.        ],\n",
       "       [ 24.        ,  73.5       ,   2.        ],\n",
       "       [ 27.        , 211.5       ,   2.        ],\n",
       "       [ 41.        , 134.5       ,   0.        ],\n",
       "       [ 61.        ,  32.3208    ,   0.        ],\n",
       "       [ 22.        ,   7.25      ,   0.        ],\n",
       "       [  1.        ,  39.        ,   3.        ],\n",
       "       [ 29.        ,  30.6958    ,   0.        ],\n",
       "       [ 29.        ,   0.        ,   0.        ],\n",
       "       [ 40.        ,   7.225     ,   0.        ],\n",
       "       [ 29.        ,   8.05      ,   0.        ],\n",
       "       [ 44.        ,   7.925     ,   0.        ],\n",
       "       [ 18.        , 262.375     ,   4.        ],\n",
       "       [ 28.        ,  37.11891611,   0.        ],\n",
       "       [ 14.        ,   7.8542    ,   0.        ],\n",
       "       [ 29.        ,  35.        ,   0.        ],\n",
       "       [ 24.        ,   7.4958    ,   0.        ],\n",
       "       [ 26.        ,  18.7875    ,   0.        ],\n",
       "       [ 34.        ,  26.        ,   1.        ],\n",
       "       [ 36.        ,   7.8958    ,   0.        ],\n",
       "       [  2.        ,  29.125     ,   5.        ],\n",
       "       [ 29.        ,   7.75      ,   0.        ],\n",
       "       [ 70.        ,  71.        ,   2.        ],\n",
       "       [ 31.        ,   7.8542    ,   0.        ],\n",
       "       [ 29.        ,   7.2292    ,   0.        ],\n",
       "       [ 29.        ,   7.75      ,   0.        ],\n",
       "       [ 42.        ,  26.2875    ,   0.        ],\n",
       "       [ 29.        ,   7.0458    ,   1.        ],\n",
       "       [ 21.        ,   7.925     ,   0.        ],\n",
       "       [ 17.        ,  10.5       ,   0.        ],\n",
       "       [ 32.        ,  37.11891611,   0.        ],\n",
       "       [  4.        ,  29.125     ,   5.        ],\n",
       "       [ 29.        ,  25.4667    ,   4.        ],\n",
       "       [ 25.        ,  26.        ,   1.        ],\n",
       "       [ 28.        ,  24.        ,   1.        ],\n",
       "       [ 29.        ,   7.8958    ,   0.        ],\n",
       "       [ 65.        ,  61.9792    ,   1.        ],\n",
       "       [ 30.        ,  31.        ,   0.        ],\n",
       "       [ 18.        ,   8.05      ,   0.        ],\n",
       "       [ 45.5       ,  28.5       ,   0.        ],\n",
       "       [  1.        ,  46.9       ,   7.        ],\n",
       "       [ 23.        ,   9.225     ,   0.        ],\n",
       "       [  9.        ,  15.9       ,   2.        ],\n",
       "       [  8.        ,  26.25      ,   2.        ],\n",
       "       [ 29.        ,   7.8958    ,   0.        ],\n",
       "       [ 21.        ,  77.9583    ,   0.        ],\n",
       "       [ 30.        ,  13.        ,   0.        ],\n",
       "       [ 31.        ,  20.525     ,   2.        ],\n",
       "       [ 31.        ,  50.4958    ,   0.        ],\n",
       "       [ 45.        ,  13.5       ,   0.        ],\n",
       "       [ 33.        ,  26.        ,   2.        ],\n",
       "       [ 45.        ,  26.55      ,   0.        ],\n",
       "       [ 29.        ,  69.55      ,  10.        ],\n",
       "       [ 25.        ,   7.775     ,   1.        ],\n",
       "       [ 29.        ,   8.4583    ,   0.        ],\n",
       "       [ 29.        ,  37.11891611,   0.        ],\n",
       "       [ 54.        ,  26.        ,   0.        ],\n",
       "       [ 25.        ,   7.225     ,   0.        ],\n",
       "       [ 29.        ,  23.45      ,   3.        ],\n",
       "       [ 22.        ,  37.11891611,   0.        ],\n",
       "       [ 29.        ,  30.        ,   0.        ],\n",
       "       [ 38.        , 227.525     ,   0.        ],\n",
       "       [ 16.        ,   7.7333    ,   0.        ],\n",
       "       [ 27.        ,   7.925     ,   0.        ],\n",
       "       [ 27.        ,  76.7292    ,   0.        ],\n",
       "       [ 24.        ,   9.5       ,   0.        ],\n",
       "       [ 30.        ,  24.15      ,   2.        ],\n",
       "       [ 36.5       ,  26.        ,   2.        ],\n",
       "       [ 39.        ,  31.275     ,   6.        ],\n",
       "       [  3.        ,  18.75      ,   2.        ],\n",
       "       [ 29.        ,  21.075     ,   4.        ],\n",
       "       [ 31.        ,  37.0042    ,   2.        ],\n",
       "       [ 29.        , 221.7792    ,   0.        ],\n",
       "       [ 27.        ,  26.        ,   0.        ],\n",
       "       [ 40.        ,  15.5       ,   2.        ],\n",
       "       [ 24.        ,   7.8958    ,   0.        ],\n",
       "       [ 17.        , 110.8833    ,   2.        ],\n",
       "       [ 24.        ,  16.7       ,   2.        ],\n",
       "       [ 61.        ,   6.2375    ,   0.        ],\n",
       "       [ 16.        ,   7.75      ,   0.        ],\n",
       "       [ 24.        ,  16.1       ,   1.        ],\n",
       "       [ 35.        ,  26.2875    ,   0.        ],\n",
       "       [ 29.        ,   7.8292    ,   0.        ],\n",
       "       [ 18.        ,   9.35      ,   1.        ],\n",
       "       [ 34.        ,  21.        ,   1.        ],\n",
       "       [ 36.        ,  15.55      ,   1.        ],\n",
       "       [ 30.        ,   8.6625    ,   0.        ],\n",
       "       [ 29.        ,  69.55      ,  10.        ],\n",
       "       [ 28.        ,  82.1708    ,   1.        ],\n",
       "       [ 19.        ,   8.05      ,   0.        ],\n",
       "       [ 33.        ,  86.5       ,   0.        ],\n",
       "       [ 30.        ,  86.5       ,   0.        ],\n",
       "       [ 36.        ,  37.11891611,   3.        ],\n",
       "       [ 36.        ,  40.125     ,   0.        ],\n",
       "       [ 32.        ,  56.4958    ,   0.        ],\n",
       "       [ 26.        ,  10.5       ,   0.        ],\n",
       "       [ 29.        ,   7.775     ,   0.        ],\n",
       "       [ 29.        ,   0.        ,   0.        ],\n",
       "       [ 50.        ,  10.5       ,   0.        ],\n",
       "       [ 36.        ,  27.75      ,   3.        ],\n",
       "       [ 30.        ,  37.11891611,   0.        ],\n",
       "       [ 51.        ,   7.0542    ,   0.        ],\n",
       "       [ 17.        ,   8.6625    ,   0.        ],\n",
       "       [ 20.        ,   9.225     ,   0.        ],\n",
       "       [  4.        ,  13.4167    ,   1.        ],\n",
       "       [ 29.        ,   7.8958    ,   0.        ],\n",
       "       [ 32.        ,  56.4958    ,   0.        ],\n",
       "       [ 29.        ,  26.55      ,   0.        ],\n",
       "       [ 36.        ,  71.        ,   2.        ],\n",
       "       [ 45.        ,  35.5       ,   0.        ],\n",
       "       [ 18.        ,  73.5       ,   0.        ],\n",
       "       [ 29.        ,  27.7208    ,   0.        ],\n",
       "       [ 30.        ,  56.9292    ,   0.        ],\n",
       "       [ 47.        ,  37.11891611,   2.        ],\n",
       "       [ 36.        , 135.6333    ,   0.        ],\n",
       "       [ 32.        ,  15.85      ,   1.        ],\n",
       "       [ 38.        ,   7.8958    ,   0.        ],\n",
       "       [ 19.        ,  10.1708    ,   0.        ],\n",
       "       [ 29.        ,  56.4958    ,   0.        ],\n",
       "       [ 25.        ,   7.7417    ,   0.        ],\n",
       "       [ 24.        ,   7.1417    ,   0.        ],\n",
       "       [ 34.        ,  13.        ,   0.        ],\n",
       "       [ 29.        ,  15.2458    ,   2.        ],\n",
       "       [ 26.        ,   8.6625    ,   2.        ],\n",
       "       [ 30.5       ,   8.05      ,   0.        ],\n",
       "       [ 18.        , 108.9       ,   1.        ],\n",
       "       [ 25.        ,  30.        ,   2.        ],\n",
       "       [ 29.        ,   7.75      ,   0.        ],\n",
       "       [ 50.        , 106.425     ,   1.        ],\n",
       "       [ 60.        ,  75.25      ,   1.        ],\n",
       "       [ 20.        ,  15.7417    ,   2.        ],\n",
       "       [ 34.        ,  21.        ,   1.        ],\n",
       "       [ 33.        ,   7.8958    ,   0.        ],\n",
       "       [ 58.        , 146.5208    ,   0.        ],\n",
       "       [ 45.        ,  83.475     ,   1.        ],\n",
       "       [ 33.        ,  90.        ,   1.        ],\n",
       "       [ 29.        ,  15.5       ,   1.        ],\n",
       "       [ 29.        ,  15.1       ,   0.        ],\n",
       "       [ 50.        , 247.5208    ,   1.        ],\n",
       "       [ 42.        ,  52.5542    ,   1.        ],\n",
       "       [ 32.        ,  15.5       ,   2.        ],\n",
       "       [ 29.        ,   7.75      ,   1.        ],\n",
       "       [ 29.        ,   6.8583    ,   0.        ],\n",
       "       [ 42.        ,   7.65      ,   0.        ],\n",
       "       [ 37.        ,  26.        ,   1.        ],\n",
       "       [ 29.        ,  37.11891611,   0.        ],\n",
       "       [ 33.        ,   8.6625    ,   0.        ],\n",
       "       [ 22.        ,  49.5       ,   2.        ],\n",
       "       [ 28.        ,   7.8958    ,   0.        ],\n",
       "       [ 26.        ,  56.4958    ,   0.        ],\n",
       "       [ 14.        ,  39.6875    ,   5.        ],\n",
       "       [ 21.        ,  73.5       ,   2.        ],\n",
       "       [ 18.        ,  11.5       ,   0.        ],\n",
       "       [ 50.        ,  37.11891611,   1.        ],\n",
       "       [ 24.        , 263.        ,   5.        ],\n",
       "       [ 29.        ,   7.8958    ,   0.        ],\n",
       "       [ 37.        ,  52.5542    ,   2.        ],\n",
       "       [ 34.        ,  14.4       ,   2.        ],\n",
       "       [ 29.        ,   7.8958    ,   0.        ],\n",
       "       [ 26.        ,   7.8542    ,   0.        ],\n",
       "       [ 56.        ,  30.6958    ,   0.        ],\n",
       "       [ 34.5       ,   6.4375    ,   0.        ],\n",
       "       [  2.        ,  31.275     ,   6.        ],\n",
       "       [ 50.        ,   8.05      ,   0.        ],\n",
       "       [ 58.        , 153.4625    ,   1.        ],\n",
       "       [ 50.        ,  10.5       ,   0.        ],\n",
       "       [ 28.        ,  37.11891611,   0.        ],\n",
       "       [ 74.        ,   7.775     ,   0.        ],\n",
       "       [ 60.        ,  39.        ,   2.        ],\n",
       "       [ 29.        ,   8.05      ,   0.        ],\n",
       "       [ 28.        ,  26.55      ,   0.        ],\n",
       "       [ 30.        ,   9.5       ,   0.        ],\n",
       "       [ 29.        ,   7.25      ,   0.        ],\n",
       "       [ 19.        ,  26.        ,   1.        ],\n",
       "       [  9.        ,  20.525     ,   2.        ],\n",
       "       [  3.        ,  31.3875    ,   6.        ],\n",
       "       [ 11.        ,  18.7875    ,   0.        ],\n",
       "       [ 18.        ,  11.5       ,   0.        ],\n",
       "       [ 11.        ,  31.275     ,   6.        ],\n",
       "       [ 13.        ,  19.5       ,   1.        ],\n",
       "       [ 29.        ,   9.4833    ,   0.        ],\n",
       "       [ 19.        , 263.        ,   5.        ],\n",
       "       [ 29.        ,   8.05      ,   0.        ],\n",
       "       [ 29.        ,  21.        ,   1.        ],\n",
       "       [ 29.        ,  50.        ,   0.        ],\n",
       "       [ 36.        ,  37.11891611,   0.        ],\n",
       "       [ 29.        ,   7.7292    ,   0.        ],\n",
       "       [ 29.        ,   7.875     ,   0.        ],\n",
       "       [ 14.        ,  11.2417    ,   1.        ],\n",
       "       [ 23.        ,   7.8542    ,   0.        ],\n",
       "       [ 20.        ,   7.8542    ,   0.        ],\n",
       "       [ 33.        ,  53.1       ,   1.        ],\n",
       "       [ 36.        ,  78.85      ,   1.        ],\n",
       "       [ 36.        ,  26.2875    ,   0.        ],\n",
       "       [ 29.        ,   7.75      ,   0.        ],\n",
       "       [ 31.        ,   7.75      ,   0.        ],\n",
       "       [ 16.        ,  20.25      ,   2.        ],\n",
       "       [  1.        ,  37.0042    ,   2.        ],\n",
       "       [ 28.        ,   9.5       ,   0.        ]])"
      ]
     },
     "execution_count": 17,
     "metadata": {},
     "output_type": "execute_result"
    }
   ],
   "source": [
    "trf.transform(x_test)"
   ]
  }
 ],
 "metadata": {
  "kernelspec": {
   "display_name": "Python 3",
   "language": "python",
   "name": "python3"
  },
  "language_info": {
   "codemirror_mode": {
    "name": "ipython",
    "version": 3
   },
   "file_extension": ".py",
   "mimetype": "text/x-python",
   "name": "python",
   "nbconvert_exporter": "python",
   "pygments_lexer": "ipython3",
   "version": "3.10.11"
  }
 },
 "nbformat": 4,
 "nbformat_minor": 2
}
