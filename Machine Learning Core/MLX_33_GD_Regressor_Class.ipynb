{
 "cells": [
  {
   "cell_type": "code",
   "execution_count": 1,
   "metadata": {},
   "outputs": [],
   "source": [
    "from sklearn.datasets import make_regression\n",
    "import numpy as np"
   ]
  },
  {
   "cell_type": "code",
   "execution_count": 2,
   "metadata": {},
   "outputs": [],
   "source": [
    "x,y=make_regression(n_samples=100,n_informative=1,n_features=1,n_targets=1,noise=20)"
   ]
  },
  {
   "cell_type": "code",
   "execution_count": 3,
   "metadata": {},
   "outputs": [
    {
     "data": {
      "text/html": [
       "<style>#sk-container-id-1 {color: black;}#sk-container-id-1 pre{padding: 0;}#sk-container-id-1 div.sk-toggleable {background-color: white;}#sk-container-id-1 label.sk-toggleable__label {cursor: pointer;display: block;width: 100%;margin-bottom: 0;padding: 0.3em;box-sizing: border-box;text-align: center;}#sk-container-id-1 label.sk-toggleable__label-arrow:before {content: \"▸\";float: left;margin-right: 0.25em;color: #696969;}#sk-container-id-1 label.sk-toggleable__label-arrow:hover:before {color: black;}#sk-container-id-1 div.sk-estimator:hover label.sk-toggleable__label-arrow:before {color: black;}#sk-container-id-1 div.sk-toggleable__content {max-height: 0;max-width: 0;overflow: hidden;text-align: left;background-color: #f0f8ff;}#sk-container-id-1 div.sk-toggleable__content pre {margin: 0.2em;color: black;border-radius: 0.25em;background-color: #f0f8ff;}#sk-container-id-1 input.sk-toggleable__control:checked~div.sk-toggleable__content {max-height: 200px;max-width: 100%;overflow: auto;}#sk-container-id-1 input.sk-toggleable__control:checked~label.sk-toggleable__label-arrow:before {content: \"▾\";}#sk-container-id-1 div.sk-estimator input.sk-toggleable__control:checked~label.sk-toggleable__label {background-color: #d4ebff;}#sk-container-id-1 div.sk-label input.sk-toggleable__control:checked~label.sk-toggleable__label {background-color: #d4ebff;}#sk-container-id-1 input.sk-hidden--visually {border: 0;clip: rect(1px 1px 1px 1px);clip: rect(1px, 1px, 1px, 1px);height: 1px;margin: -1px;overflow: hidden;padding: 0;position: absolute;width: 1px;}#sk-container-id-1 div.sk-estimator {font-family: monospace;background-color: #f0f8ff;border: 1px dotted black;border-radius: 0.25em;box-sizing: border-box;margin-bottom: 0.5em;}#sk-container-id-1 div.sk-estimator:hover {background-color: #d4ebff;}#sk-container-id-1 div.sk-parallel-item::after {content: \"\";width: 100%;border-bottom: 1px solid gray;flex-grow: 1;}#sk-container-id-1 div.sk-label:hover label.sk-toggleable__label {background-color: #d4ebff;}#sk-container-id-1 div.sk-serial::before {content: \"\";position: absolute;border-left: 1px solid gray;box-sizing: border-box;top: 0;bottom: 0;left: 50%;z-index: 0;}#sk-container-id-1 div.sk-serial {display: flex;flex-direction: column;align-items: center;background-color: white;padding-right: 0.2em;padding-left: 0.2em;position: relative;}#sk-container-id-1 div.sk-item {position: relative;z-index: 1;}#sk-container-id-1 div.sk-parallel {display: flex;align-items: stretch;justify-content: center;background-color: white;position: relative;}#sk-container-id-1 div.sk-item::before, #sk-container-id-1 div.sk-parallel-item::before {content: \"\";position: absolute;border-left: 1px solid gray;box-sizing: border-box;top: 0;bottom: 0;left: 50%;z-index: -1;}#sk-container-id-1 div.sk-parallel-item {display: flex;flex-direction: column;z-index: 1;position: relative;background-color: white;}#sk-container-id-1 div.sk-parallel-item:first-child::after {align-self: flex-end;width: 50%;}#sk-container-id-1 div.sk-parallel-item:last-child::after {align-self: flex-start;width: 50%;}#sk-container-id-1 div.sk-parallel-item:only-child::after {width: 0;}#sk-container-id-1 div.sk-dashed-wrapped {border: 1px dashed gray;margin: 0 0.4em 0.5em 0.4em;box-sizing: border-box;padding-bottom: 0.4em;background-color: white;}#sk-container-id-1 div.sk-label label {font-family: monospace;font-weight: bold;display: inline-block;line-height: 1.2em;}#sk-container-id-1 div.sk-label-container {text-align: center;}#sk-container-id-1 div.sk-container {/* jupyter's `normalize.less` sets `[hidden] { display: none; }` but bootstrap.min.css set `[hidden] { display: none !important; }` so we also need the `!important` here to be able to override the default hidden behavior on the sphinx rendered scikit-learn.org. See: https://github.com/scikit-learn/scikit-learn/issues/21755 */display: inline-block !important;position: relative;}#sk-container-id-1 div.sk-text-repr-fallback {display: none;}</style><div id=\"sk-container-id-1\" class=\"sk-top-container\"><div class=\"sk-text-repr-fallback\"><pre>LinearRegression()</pre><b>In a Jupyter environment, please rerun this cell to show the HTML representation or trust the notebook. <br />On GitHub, the HTML representation is unable to render, please try loading this page with nbviewer.org.</b></div><div class=\"sk-container\" hidden><div class=\"sk-item\"><div class=\"sk-estimator sk-toggleable\"><input class=\"sk-toggleable__control sk-hidden--visually\" id=\"sk-estimator-id-1\" type=\"checkbox\" checked><label for=\"sk-estimator-id-1\" class=\"sk-toggleable__label sk-toggleable__label-arrow\">LinearRegression</label><div class=\"sk-toggleable__content\"><pre>LinearRegression()</pre></div></div></div></div></div>"
      ],
      "text/plain": [
       "LinearRegression()"
      ]
     },
     "execution_count": 3,
     "metadata": {},
     "output_type": "execute_result"
    }
   ],
   "source": [
    "from sklearn.linear_model import LinearRegression\n",
    "model=LinearRegression()\n",
    "model.fit(x,y)"
   ]
  },
  {
   "cell_type": "code",
   "execution_count": 4,
   "metadata": {},
   "outputs": [
    {
     "data": {
      "text/plain": [
       "array([74.47291817])"
      ]
     },
     "execution_count": 4,
     "metadata": {},
     "output_type": "execute_result"
    }
   ],
   "source": [
    "model.coef_"
   ]
  },
  {
   "cell_type": "code",
   "execution_count": 5,
   "metadata": {},
   "outputs": [
    {
     "data": {
      "text/plain": [
       "-0.9230999100549204"
      ]
     },
     "execution_count": 5,
     "metadata": {},
     "output_type": "execute_result"
    }
   ],
   "source": [
    "model.intercept_"
   ]
  },
  {
   "cell_type": "code",
   "execution_count": 6,
   "metadata": {},
   "outputs": [],
   "source": [
    "m=54.94"
   ]
  },
  {
   "cell_type": "code",
   "execution_count": 7,
   "metadata": {},
   "outputs": [],
   "source": [
    "class GDRegressor:\n",
    "\n",
    "    def __init__(self,lr,epochs):\n",
    "        self.m= 54.94\n",
    "        self.b=-120\n",
    "        self.epochs=epochs\n",
    "        self.lr=lr\n",
    "    def fit(self,x,y):\n",
    "        for i in range(self.epochs):\n",
    "           slope= -2 * np.sum(y - self.m*x.ravel()-self.b) \n",
    "           self.b= self.b -(self.lr * slope)\n",
    "           print(slope,self.b)\n",
    "        print(self.b)\n",
    "        "
   ]
  },
  {
   "cell_type": "code",
   "execution_count": 8,
   "metadata": {},
   "outputs": [],
   "source": [
    "gd = GDRegressor(0.001,100)"
   ]
  },
  {
   "cell_type": "code",
   "execution_count": 9,
   "metadata": {},
   "outputs": [
    {
     "name": "stdout",
     "output_type": "stream",
     "text": [
      "-23954.549388988788 -96.0454506110112\n",
      "-19163.63951119103 -76.88181109982017\n",
      "-15330.911608952829 -61.55089949086734\n",
      "-12264.72928716226 -49.286170203705076\n",
      "-9811.783429729807 -39.47438677397527\n",
      "-7849.426743783846 -31.624960030191424\n",
      "-6279.541395027078 -25.345418635164346\n",
      "-5023.633116021661 -20.321785519142686\n",
      "-4018.90649281733 -16.302879026325357\n",
      "-3215.125194253863 -13.087753832071494\n",
      "-2572.100155403091 -10.515653676668403\n",
      "-2057.680124322473 -8.45797355234593\n",
      "-1646.1440994579784 -6.8118294528879515\n",
      "-1316.9152795663822 -5.494914173321569\n",
      "-1053.532223653106 -4.441381949668463\n",
      "-842.8257789224847 -3.598556170745978\n",
      "-674.2606231379879 -2.9242955476079904\n",
      "-539.4084985103902 -2.3848870490976\n",
      "-431.52679880831226 -1.953360250289288\n",
      "-345.22143904664955 -1.6081388112426385\n",
      "-276.17715123732 -1.3319616600053186\n",
      "-220.94172098985604 -1.1110199390154625\n",
      "-176.75337679188482 -0.9342665622235776\n",
      "-141.40270143350756 -0.7928638607900701\n",
      "-113.12216114680629 -0.6797416996432638\n",
      "-90.49772891744493 -0.5892439707258189\n",
      "-72.39818313395583 -0.5168457875918631\n",
      "-57.918546507164756 -0.4589272410846983\n",
      "-46.33483720573199 -0.4125924038789663\n",
      "-37.06786976458552 -0.37552453411438075\n",
      "-29.654295811668383 -0.34587023830271235\n",
      "-23.723436649334538 -0.32214680165337783\n",
      "-18.97874931946763 -0.3031680523339102\n",
      "-15.182999455574056 -0.28798505287833615\n",
      "-12.146399564459465 -0.2758386533138767\n",
      "-9.71711965156748 -0.26612153366230923\n",
      "-7.7736957212541355 -0.2583478379410551\n",
      "-6.218956577003247 -0.25212888136405187\n",
      "-4.975165261602463 -0.2471537161024494\n",
      "-3.9801322092822247 -0.24317358389316718\n",
      "-3.1841057674255566 -0.23998947812574162\n",
      "-2.547284613940583 -0.23744219351180104\n",
      "-2.0378276911524367 -0.2354043658206486\n",
      "-1.630262152921894 -0.23377410366772672\n",
      "-1.3042097223376956 -0.23246989394538903\n",
      "-1.0433677778702375 -0.2314265261675188\n",
      "-0.8346942222958162 -0.23059183194522298\n",
      "-0.6677553778368761 -0.22992407656738612\n",
      "-0.5342043022693233 -0.22938987226511678\n",
      "-0.427363441815622 -0.22896250882330116\n",
      "-0.3418907534525246 -0.22862061806984862\n",
      "-0.27351260276174827 -0.22834710546708686\n",
      "-0.2188100822095791 -0.22812829538487728\n",
      "-0.17504806576780396 -0.2279532473191095\n",
      "-0.14003845261401437 -0.22781320886649548\n",
      "-0.11203076209120155 -0.22770117810440427\n",
      "-0.08962460967301666 -0.22761155349473125\n",
      "-0.07169968773852275 -0.22753985380699274\n",
      "-0.05735975019072015 -0.22748249405680201\n",
      "-0.045887800152506486 -0.22743660625664952\n",
      "-0.03671024012222546 -0.2273998960165273\n",
      "-0.029368192097741996 -0.22737052782442957\n",
      "-0.023494553678155228 -0.22734703327075143\n",
      "-0.01879564294241476 -0.22732823762780902\n",
      "-0.015036514353958808 -0.22731320111345504\n",
      "-0.0120292114829752 -0.22730117190197208\n",
      "-0.009623369186520847 -0.22729154853278555\n",
      "-0.007698695349326101 -0.2272838498374362\n",
      "-0.006158956279371353 -0.22727769088115685\n",
      "-0.004927165023609348 -0.22727276371613322\n",
      "-0.003941732018880373 -0.22726882198411436\n",
      "-0.003153385615000559 -0.22726566859849937\n",
      "-0.0025227084920018683 -0.22726314589000737\n",
      "-0.002018166793654075 -0.22726112772321372\n",
      "-0.0016145334347399398 -0.22725951318977897\n",
      "-0.0012916267479212706 -0.22725822156303105\n",
      "-0.0010333013985714956 -0.22725718826163246\n",
      "-0.0008266411185573475 -0.2272563616205139\n",
      "-0.0006613128950831992 -0.22725570030761882\n",
      "-0.0005290503159258719 -0.2272551712573029\n",
      "-0.00042324025272222343 -0.22725474801705017\n",
      "-0.0003385922021905685 -0.22725440942484798\n",
      "-0.0002708737616146095 -0.22725413855108637\n",
      "-0.0002166990096057475 -0.22725392185207677\n",
      "-0.0001733592075865431 -0.22725374849286917\n",
      "-0.00013868736615307853 -0.22725360980550302\n",
      "-0.00011094989263682464 -0.2272534988556104\n",
      "-8.875991431267494e-05 -0.22725341009569608\n",
      "-7.100793153114182e-05 -0.22725333908776454\n",
      "-5.680634519222849e-05 -0.22725328228141936\n",
      "-4.544507606141224e-05 -0.2272532368363433\n",
      "-3.635606081076048e-05 -0.2272532004802825\n",
      "-2.908484874097894e-05 -0.22725317139543375\n",
      "-2.3267878809463127e-05 -0.22725314812755493\n",
      "-1.861430317973145e-05 -0.22725312951325174\n",
      "-1.4891442440045921e-05 -0.2272531146218093\n",
      "-1.1913154089882028e-05 -0.2272531027086552\n",
      "-9.530523477963015e-06 -0.22725309317813172\n",
      "-7.624418721263737e-06 -0.227253085553713\n",
      "-6.0995347084258356e-06 -0.2272530794541783\n",
      "-0.2272530794541783\n"
     ]
    }
   ],
   "source": [
    "gd.fit(x,y)"
   ]
  },
  {
   "cell_type": "markdown",
   "metadata": {},
   "source": [
    "Calculating Both M and B"
   ]
  },
  {
   "cell_type": "code",
   "execution_count": 14,
   "metadata": {},
   "outputs": [],
   "source": [
    "from sklearn.linear_model import LinearRegression\n",
    "from sklearn.model_selection import cross_val_score"
   ]
  },
  {
   "cell_type": "code",
   "execution_count": 15,
   "metadata": {},
   "outputs": [],
   "source": [
    "model=LinearRegression()"
   ]
  },
  {
   "cell_type": "code",
   "execution_count": 16,
   "metadata": {},
   "outputs": [
    {
     "name": "stdout",
     "output_type": "stream",
     "text": [
      "[74.47291817]\n",
      "-0.9230999100549204\n"
     ]
    }
   ],
   "source": [
    "model.fit(x,y)\n",
    "print(model.coef_)\n",
    "print(model.intercept_)"
   ]
  },
  {
   "cell_type": "code",
   "execution_count": 18,
   "metadata": {},
   "outputs": [
    {
     "data": {
      "text/plain": [
       "0.8729615842778351"
      ]
     },
     "execution_count": 18,
     "metadata": {},
     "output_type": "execute_result"
    }
   ],
   "source": [
    "np.mean(cross_val_score(model,x,y,cv=10,scoring='r2'))"
   ]
  },
  {
   "cell_type": "code",
   "execution_count": 26,
   "metadata": {},
   "outputs": [],
   "source": [
    "class GDRegressor2:\n",
    "    def __init__(self,lr,epochs):\n",
    "        self.m =100\n",
    "        self.b= -120\n",
    "        self.lr= lr\n",
    "        self.epochs = epochs\n",
    "\n",
    "    def fit(self,x,y):\n",
    "\n",
    "        for i in range(self.epochs):\n",
    "            slope_b = -2 * np.sum(y- self.m * x.ravel() - self.b)\n",
    "            slope_m = -2 * np.sum((y- self.m * x.ravel() - self.b)* x.ravel())\n",
    "\n",
    "            self.b = self.b -(self.lr * slope_b)\n",
    "            self.m = self.m - (self.lr * slope_m)\n",
    "        print(self.m,self.b)\n",
    "    def predict(self,x):\n",
    "        return self.m * self.b"
   ]
  },
  {
   "cell_type": "code",
   "execution_count": 27,
   "metadata": {},
   "outputs": [],
   "source": [
    "gd=GDRegressor2(0.001,50)"
   ]
  },
  {
   "cell_type": "code",
   "execution_count": 28,
   "metadata": {},
   "outputs": [
    {
     "name": "stdout",
     "output_type": "stream",
     "text": [
      "74.47919476076653 -0.9257905226620288\n"
     ]
    }
   ],
   "source": [
    "gd.fit(x,y)"
   ]
  },
  {
   "cell_type": "code",
   "execution_count": 31,
   "metadata": {},
   "outputs": [],
   "source": [
    "from sklearn.model_selection import train_test_split"
   ]
  },
  {
   "cell_type": "code",
   "execution_count": 32,
   "metadata": {},
   "outputs": [],
   "source": [
    "x_train,x_test,y_train,y_test=train_test_split(x,y,test_size=0.2)"
   ]
  },
  {
   "cell_type": "code",
   "execution_count": null,
   "metadata": {},
   "outputs": [],
   "source": []
  }
 ],
 "metadata": {
  "kernelspec": {
   "display_name": "Python 3",
   "language": "python",
   "name": "python3"
  },
  "language_info": {
   "codemirror_mode": {
    "name": "ipython",
    "version": 3
   },
   "file_extension": ".py",
   "mimetype": "text/x-python",
   "name": "python",
   "nbconvert_exporter": "python",
   "pygments_lexer": "ipython3",
   "version": "3.10.11"
  }
 },
 "nbformat": 4,
 "nbformat_minor": 2
}
