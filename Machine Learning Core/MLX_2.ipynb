{
 "cells": [
  {
   "cell_type": "code",
   "execution_count": null,
   "id": "4ba22a09-e0cb-4a48-9088-87de633addc1",
   "metadata": {},
   "outputs": [],
   "source": [
    "import pandas as pd"
   ]
  },
  {
   "cell_type": "markdown",
   "id": "b61360c0-a1fc-47fc-81f1-39abf5dbcab3",
   "metadata": {},
   "source": [
    "<strong>Opening a local csv file</strong>"
   ]
  },
  {
   "cell_type": "code",
   "execution_count": 2,
   "id": "ce8809f3-1cb7-49b8-bda1-9b067d895125",
   "metadata": {},
   "outputs": [],
   "source": [
    "df=pd.read_csv(r\"C:\\Users\\Utsav\\Desktop\\pokemon.csv\")"
   ]
  },
  {
   "cell_type": "code",
   "execution_count": 3,
   "id": "b83fe2d4-21aa-47eb-8e7e-e166df233b73",
   "metadata": {},
   "outputs": [
    {
     "data": {
      "text/html": [
       "<div>\n",
       "<style scoped>\n",
       "    .dataframe tbody tr th:only-of-type {\n",
       "        vertical-align: middle;\n",
       "    }\n",
       "\n",
       "    .dataframe tbody tr th {\n",
       "        vertical-align: top;\n",
       "    }\n",
       "\n",
       "    .dataframe thead th {\n",
       "        text-align: right;\n",
       "    }\n",
       "</style>\n",
       "<table border=\"1\" class=\"dataframe\">\n",
       "  <thead>\n",
       "    <tr style=\"text-align: right;\">\n",
       "      <th></th>\n",
       "      <th>#</th>\n",
       "      <th>Name</th>\n",
       "      <th>Type 1</th>\n",
       "      <th>Type 2</th>\n",
       "      <th>Total</th>\n",
       "      <th>HP</th>\n",
       "      <th>Attack</th>\n",
       "      <th>Defense</th>\n",
       "      <th>Sp. Atk</th>\n",
       "      <th>Sp. Def</th>\n",
       "      <th>Speed</th>\n",
       "      <th>Generation</th>\n",
       "      <th>Legendary</th>\n",
       "    </tr>\n",
       "  </thead>\n",
       "  <tbody>\n",
       "    <tr>\n",
       "      <th>0</th>\n",
       "      <td>1</td>\n",
       "      <td>Bulbasaur</td>\n",
       "      <td>Grass</td>\n",
       "      <td>Poison</td>\n",
       "      <td>318</td>\n",
       "      <td>45</td>\n",
       "      <td>49</td>\n",
       "      <td>49</td>\n",
       "      <td>65</td>\n",
       "      <td>65</td>\n",
       "      <td>45</td>\n",
       "      <td>1</td>\n",
       "      <td>False</td>\n",
       "    </tr>\n",
       "    <tr>\n",
       "      <th>1</th>\n",
       "      <td>2</td>\n",
       "      <td>Ivysaur</td>\n",
       "      <td>Grass</td>\n",
       "      <td>Poison</td>\n",
       "      <td>405</td>\n",
       "      <td>60</td>\n",
       "      <td>62</td>\n",
       "      <td>63</td>\n",
       "      <td>80</td>\n",
       "      <td>80</td>\n",
       "      <td>60</td>\n",
       "      <td>1</td>\n",
       "      <td>False</td>\n",
       "    </tr>\n",
       "    <tr>\n",
       "      <th>2</th>\n",
       "      <td>3</td>\n",
       "      <td>Venusaur</td>\n",
       "      <td>Grass</td>\n",
       "      <td>Poison</td>\n",
       "      <td>525</td>\n",
       "      <td>80</td>\n",
       "      <td>82</td>\n",
       "      <td>83</td>\n",
       "      <td>100</td>\n",
       "      <td>100</td>\n",
       "      <td>80</td>\n",
       "      <td>1</td>\n",
       "      <td>False</td>\n",
       "    </tr>\n",
       "    <tr>\n",
       "      <th>3</th>\n",
       "      <td>3</td>\n",
       "      <td>VenusaurMega Venusaur</td>\n",
       "      <td>Grass</td>\n",
       "      <td>Poison</td>\n",
       "      <td>625</td>\n",
       "      <td>80</td>\n",
       "      <td>100</td>\n",
       "      <td>123</td>\n",
       "      <td>122</td>\n",
       "      <td>120</td>\n",
       "      <td>80</td>\n",
       "      <td>1</td>\n",
       "      <td>False</td>\n",
       "    </tr>\n",
       "    <tr>\n",
       "      <th>4</th>\n",
       "      <td>4</td>\n",
       "      <td>Charmander</td>\n",
       "      <td>Fire</td>\n",
       "      <td>NaN</td>\n",
       "      <td>309</td>\n",
       "      <td>39</td>\n",
       "      <td>52</td>\n",
       "      <td>43</td>\n",
       "      <td>60</td>\n",
       "      <td>50</td>\n",
       "      <td>65</td>\n",
       "      <td>1</td>\n",
       "      <td>False</td>\n",
       "    </tr>\n",
       "  </tbody>\n",
       "</table>\n",
       "</div>"
      ],
      "text/plain": [
       "   #                   Name Type 1  Type 2  Total  HP  Attack  Defense   \n",
       "0  1              Bulbasaur  Grass  Poison    318  45      49       49  \\\n",
       "1  2                Ivysaur  Grass  Poison    405  60      62       63   \n",
       "2  3               Venusaur  Grass  Poison    525  80      82       83   \n",
       "3  3  VenusaurMega Venusaur  Grass  Poison    625  80     100      123   \n",
       "4  4             Charmander   Fire     NaN    309  39      52       43   \n",
       "\n",
       "   Sp. Atk  Sp. Def  Speed  Generation  Legendary  \n",
       "0       65       65     45           1      False  \n",
       "1       80       80     60           1      False  \n",
       "2      100      100     80           1      False  \n",
       "3      122      120     80           1      False  \n",
       "4       60       50     65           1      False  "
      ]
     },
     "execution_count": 3,
     "metadata": {},
     "output_type": "execute_result"
    }
   ],
   "source": [
    "df.head()"
   ]
  },
  {
   "cell_type": "markdown",
   "id": "e4509bfb-f07c-4b3c-ae77-edde6b946a88",
   "metadata": {},
   "source": [
    "<strong>From URL</strong>"
   ]
  },
  {
   "cell_type": "code",
   "execution_count": 5,
   "id": "fe26b964-6fe2-460e-9ff7-5a986a502457",
   "metadata": {},
   "outputs": [],
   "source": [
    "import requests\n",
    "from io import StringIO\n"
   ]
  },
  {
   "cell_type": "markdown",
   "id": "d458a9b5-d76b-4fc2-a7f4-631b79e67ef9",
   "metadata": {},
   "source": [
    "<strong>Sep Parameter</strong>"
   ]
  },
  {
   "cell_type": "code",
   "execution_count": 12,
   "id": "0bcf24ed-7e56-41d7-b116-ff6a3bfc7ad9",
   "metadata": {},
   "outputs": [
    {
     "data": {
      "text/html": [
       "<div>\n",
       "<style scoped>\n",
       "    .dataframe tbody tr th:only-of-type {\n",
       "        vertical-align: middle;\n",
       "    }\n",
       "\n",
       "    .dataframe tbody tr th {\n",
       "        vertical-align: top;\n",
       "    }\n",
       "\n",
       "    .dataframe thead th {\n",
       "        text-align: right;\n",
       "    }\n",
       "</style>\n",
       "<table border=\"1\" class=\"dataframe\">\n",
       "  <thead>\n",
       "    <tr style=\"text-align: right;\">\n",
       "      <th></th>\n",
       "      <th>Result</th>\n",
       "      <th>Message</th>\n",
       "    </tr>\n",
       "  </thead>\n",
       "  <tbody>\n",
       "    <tr>\n",
       "      <th>0</th>\n",
       "      <td>ham</td>\n",
       "      <td>I've been searching for the right words to tha...</td>\n",
       "    </tr>\n",
       "    <tr>\n",
       "      <th>1</th>\n",
       "      <td>spam</td>\n",
       "      <td>Free entry in 2 a wkly comp to win FA Cup fina...</td>\n",
       "    </tr>\n",
       "    <tr>\n",
       "      <th>2</th>\n",
       "      <td>ham</td>\n",
       "      <td>Nah I don't think he goes to usf, he lives aro...</td>\n",
       "    </tr>\n",
       "    <tr>\n",
       "      <th>3</th>\n",
       "      <td>ham</td>\n",
       "      <td>Even my brother is not like to speak with me. ...</td>\n",
       "    </tr>\n",
       "    <tr>\n",
       "      <th>4</th>\n",
       "      <td>ham</td>\n",
       "      <td>I HAVE A DATE ON SUNDAY WITH WILL!!</td>\n",
       "    </tr>\n",
       "    <tr>\n",
       "      <th>...</th>\n",
       "      <td>...</td>\n",
       "      <td>...</td>\n",
       "    </tr>\n",
       "    <tr>\n",
       "      <th>5563</th>\n",
       "      <td>spam</td>\n",
       "      <td>This is the 2nd time we have tried 2 contact u...</td>\n",
       "    </tr>\n",
       "    <tr>\n",
       "      <th>5564</th>\n",
       "      <td>ham</td>\n",
       "      <td>Will ü b going to esplanade fr home?</td>\n",
       "    </tr>\n",
       "    <tr>\n",
       "      <th>5565</th>\n",
       "      <td>ham</td>\n",
       "      <td>Pity, * was in mood for that. So...any other s...</td>\n",
       "    </tr>\n",
       "    <tr>\n",
       "      <th>5566</th>\n",
       "      <td>ham</td>\n",
       "      <td>The guy did some bitching but I acted like i'd...</td>\n",
       "    </tr>\n",
       "    <tr>\n",
       "      <th>5567</th>\n",
       "      <td>ham</td>\n",
       "      <td>Rofl. Its true to its name</td>\n",
       "    </tr>\n",
       "  </tbody>\n",
       "</table>\n",
       "<p>5568 rows × 2 columns</p>\n",
       "</div>"
      ],
      "text/plain": [
       "     Result                                            Message\n",
       "0       ham  I've been searching for the right words to tha...\n",
       "1      spam  Free entry in 2 a wkly comp to win FA Cup fina...\n",
       "2       ham  Nah I don't think he goes to usf, he lives aro...\n",
       "3       ham  Even my brother is not like to speak with me. ...\n",
       "4       ham                I HAVE A DATE ON SUNDAY WITH WILL!!\n",
       "...     ...                                                ...\n",
       "5563   spam  This is the 2nd time we have tried 2 contact u...\n",
       "5564    ham               Will ü b going to esplanade fr home?\n",
       "5565    ham  Pity, * was in mood for that. So...any other s...\n",
       "5566    ham  The guy did some bitching but I acted like i'd...\n",
       "5567    ham                         Rofl. Its true to its name\n",
       "\n",
       "[5568 rows x 2 columns]"
      ]
     },
     "execution_count": 12,
     "metadata": {},
     "output_type": "execute_result"
    }
   ],
   "source": [
    "pd.read_csv(r\"SMSSpamCollection.tsv\",sep='\\t',names=['Result','Message']) #isme hum comma ki jagah tab ko as a separator use krte hain to yeh value aati h\n",
    "#names se hum column names dete hain"
   ]
  },
  {
   "cell_type": "markdown",
   "id": "e10d4136-74d3-4c94-84cb-81bf2879e3db",
   "metadata": {},
   "source": [
    "<h1>Index_col</h1>\n",
    "<h2>Isme hume agar index ko koi column value deni hoti h to hum ye use krte h</h2>\n",
    "df=pd.read_csv(r\"C:\\Users\\Utsav\\Desktop\\pokemon.csv\",index_col='column name')\n",
    "<h4></h4>"
   ]
  },
  {
   "cell_type": "markdown",
   "id": "9aea0668-4a61-4a6e-9217-f1d5a84b561d",
   "metadata": {},
   "source": [
    "<h2>Header Parameter</h2>\n",
    "<h4> Isme agar dataset ka column name row mein aa raha h to use krte hain<br>\n",
    "df=pd.read_csv(r\"C:\\Users\\Utsav\\Desktop\\pokemon.csv\",header=1)</h4>"
   ]
  },
  {
   "cell_type": "markdown",
   "id": "da66407d-ddd4-4315-8b60-09d011316bf9",
   "metadata": {},
   "source": [
    "<h2>use_cols</h2>\n",
    "<h4>Isme hum un columns ko specify krte hain jo hume use krni h \n",
    "to hum import ke time hi unko specify krdete hain\n",
    "df=pd.read_csv(r\"C:\\Users\\Utsav\\Desktop\\pokemon.csv\",use_cols=[column names])</h4>"
   ]
  },
  {
   "cell_type": "markdown",
   "id": "b0c5d67f-8f93-4142-8e48-2f17546f1c1d",
   "metadata": {},
   "source": [
    "<h2>Skip rows/nrows</h2>\n",
    "<h4>Isme hum rows ko skip krte hain\n",
    "df=pd.read_csv(r\"C:\\Users\\Utsav\\Desktop\\pokemon.csv\",skiprows=[0,5])<br>\n",
    "df=pd.read_csv(r\"C:\\Users\\Utsav\\Desktop\\pokemon.csv\",nrows=100)</h4>"
   ]
  },
  {
   "cell_type": "markdown",
   "id": "9cb190f4-736c-497c-9357-ef360be51c08",
   "metadata": {},
   "source": [
    "<h2>Skip Bad Lines</h2>\n",
    "<h4>Isme ye bad rows ko skip krta hai jaise agar 8 columns hain aur us row mein 9 values hain to wo us row ko skip kr dega .\n",
    "df=pd.read_csv(r\"C:\\Users\\Utsav\\Desktop\\pokemon.csv\",error_bad_lines=False)</h4>"
   ]
  },
  {
   "cell_type": "markdown",
   "id": "a320982a-70c1-41fb-97b9-c7c8e8841a59",
   "metadata": {},
   "source": [
    "<h2>Dtype Parameter</h2>\n",
    "<h4>Isme hum agar kisi column ka datatype change krna hain to use krte h\n",
    "    isme hum as a dictionary input krte hain\n",
    "df=pd.read_csv(r\"C:\\Users\\Utsav\\Desktop\\pokemon.csv\",dtype={'colname':value)</h4>"
   ]
  },
  {
   "cell_type": "markdown",
   "id": "d8341bea-a7af-458d-a644-c4a0a1d3cd96",
   "metadata": {},
   "source": [
    "<h2>Handling Data </h2>\n",
    "<h4>agar hume string wali dates ko date mein convert krna hain to\n",
    "df=pd.read_csv(r\"C:\\Users\\Utsav\\Desktop\\pokemon.csv\",parse_dates=['colname'])</h4>"
   ]
  },
  {
   "cell_type": "markdown",
   "id": "e4e008da-e37f-418b-89ad-68ed2f9220d7",
   "metadata": {},
   "source": [
    "<h2>Converter</h2>\n",
    "<h4>Isme hum convert krte hain column ki values ko according to oour convenience\n",
    "df=pd.read_csv(r\"C:\\Users\\Utsav\\Desktop\\pokemon.csv\",converters={'col name': Funcname})</h4>"
   ]
  },
  {
   "cell_type": "markdown",
   "id": "22648bad-6deb-4607-ad39-ea70d9ed8492",
   "metadata": {},
   "source": [
    "<h2>NA Values</h2>\n",
    "<h4>isme hum un values ko convert krte hain null mein agar kahin pe na ki jagah \n",
    "hypen h ya koi aur symbol hai jo na nahin but koi value bhi signify nahi krta ye use krte hain\n",
    "df=pd.read_csv(r\"C:\\Users\\Utsav\\Desktop\\pokemon.csv\",na_values=['Value Name'])</h4>"
   ]
  },
  {
   "cell_type": "markdown",
   "id": "354c152b-c234-4fc0-b928-cd594dc2b970",
   "metadata": {},
   "source": [
    "<h2>Dividing datset into chunks</h2>\n",
    "<h4>df=pd.read_csv(r\"C:\\Users\\Utsav\\Desktop\\pokemon.csv\",chunksize=5000)</h4>"
   ]
  },
  {
   "cell_type": "code",
   "execution_count": 17,
   "id": "cd7e6191-287a-4764-9151-bd951beccdab",
   "metadata": {},
   "outputs": [],
   "source": [
    "ddff=pd.read_csv(\"Bengaluru_House_Data.csv\",chunksize=5000)"
   ]
  },
  {
   "cell_type": "code",
   "execution_count": 18,
   "id": "53fb2e03-6959-41fd-9b8b-be8e24dc8ac4",
   "metadata": {},
   "outputs": [
    {
     "name": "stdout",
     "output_type": "stream",
     "text": [
      "(5000, 9)\n",
      "(5000, 9)\n",
      "(3320, 9)\n"
     ]
    }
   ],
   "source": [
    "for ds in ddff:\n",
    "    print(ds.shape)"
   ]
  },
  {
   "cell_type": "code",
   "execution_count": null,
   "id": "f0e68f58-5264-4f5b-bf07-fc4890f2fa50",
   "metadata": {},
   "outputs": [],
   "source": []
  }
 ],
 "metadata": {
  "kernelspec": {
   "display_name": "Python 3 (ipykernel)",
   "language": "python",
   "name": "python3"
  },
  "language_info": {
   "codemirror_mode": {
    "name": "ipython",
    "version": 3
   },
   "file_extension": ".py",
   "mimetype": "text/x-python",
   "name": "python",
   "nbconvert_exporter": "python",
   "pygments_lexer": "ipython3",
   "version": "3.10.11"
  }
 },
 "nbformat": 4,
 "nbformat_minor": 5
}
